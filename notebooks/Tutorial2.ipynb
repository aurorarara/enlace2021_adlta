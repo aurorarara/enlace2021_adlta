{
 "cells": [
  {
   "cell_type": "code",
   "execution_count": 1,
   "id": "312f849e-18a8-474b-a431-543edb2f755d",
   "metadata": {},
   "outputs": [
    {
     "name": "stdout",
     "output_type": "stream",
     "text": [
      "Hello World\n"
     ]
    }
   ],
   "source": [
    "message = 'Hello World'\n",
    "print('Hello World') "
   ]
  },
  {
   "cell_type": "code",
   "execution_count": 2,
   "id": "209126f8-5bea-429d-ba3d-6dd54a30330d",
   "metadata": {},
   "outputs": [
    {
     "name": "stdout",
     "output_type": "stream",
     "text": [
      "Bobby's World\n"
     ]
    }
   ],
   "source": [
    "message = 'Bobby\\'s World'\n",
    "print(message)"
   ]
  },
  {
   "cell_type": "code",
   "execution_count": 3,
   "id": "570b5c30-3b67-4a96-a092-6ad9b4ff0d7d",
   "metadata": {},
   "outputs": [
    {
     "name": "stdout",
     "output_type": "stream",
     "text": [
      "Bobby's World\n"
     ]
    }
   ],
   "source": [
    "message = \"Bobby's World\"\n",
    "print (message)\n"
   ]
  },
  {
   "cell_type": "code",
   "execution_count": 4,
   "id": "b220f699-7df0-4261-b27c-6b79c4b8bc83",
   "metadata": {},
   "outputs": [
    {
     "name": "stdout",
     "output_type": "stream",
     "text": [
      "Bobby's World\n"
     ]
    }
   ],
   "source": [
    "message = \"\"\"Bobby's World\"\"\" \n",
    "print (message)"
   ]
  },
  {
   "cell_type": "code",
   "execution_count": 5,
   "id": "980dc2ef-2b93-43e7-9b01-19c5ff707fe8",
   "metadata": {},
   "outputs": [
    {
     "name": "stdout",
     "output_type": "stream",
     "text": [
      "11\n"
     ]
    }
   ],
   "source": [
    "message = 'Hello World'\n",
    "print (len(message))"
   ]
  },
  {
   "cell_type": "code",
   "execution_count": 6,
   "id": "ee9f9bef-2d64-47dd-97bd-6bc60fc7900c",
   "metadata": {},
   "outputs": [
    {
     "name": "stdout",
     "output_type": "stream",
     "text": [
      "H\n"
     ]
    }
   ],
   "source": [
    "message = 'Hello World'\n",
    "print(message [0])"
   ]
  },
  {
   "cell_type": "code",
   "execution_count": 7,
   "id": "58136787-bb45-4db3-97c6-6979c3ade25c",
   "metadata": {},
   "outputs": [
    {
     "name": "stdout",
     "output_type": "stream",
     "text": [
      "Hello\n"
     ]
    }
   ],
   "source": [
    "message = 'Hello World'\n",
    "print(message[0:5])\n"
   ]
  },
  {
   "cell_type": "code",
   "execution_count": 8,
   "id": "66905c02-9fa6-4f4f-be19-72cd6ca38313",
   "metadata": {},
   "outputs": [
    {
     "name": "stdout",
     "output_type": "stream",
     "text": [
      "Hello\n"
     ]
    }
   ],
   "source": [
    "message = 'Hello World'\n",
    "print(message[:5])"
   ]
  },
  {
   "cell_type": "code",
   "execution_count": 9,
   "id": "2ac0f100-0ccd-4493-a78c-1ae8f36a10f3",
   "metadata": {},
   "outputs": [
    {
     "name": "stdout",
     "output_type": "stream",
     "text": [
      "World\n"
     ]
    }
   ],
   "source": [
    "message = 'Hello World'\n",
    "print(message [6:]) "
   ]
  },
  {
   "cell_type": "code",
   "execution_count": 10,
   "id": "90186e73-78b7-4b0c-a1a5-b5e705d4464f",
   "metadata": {},
   "outputs": [
    {
     "name": "stdout",
     "output_type": "stream",
     "text": [
      "hello world\n"
     ]
    }
   ],
   "source": [
    "message = 'Hello World'\n",
    "print(message.lower())"
   ]
  },
  {
   "cell_type": "code",
   "execution_count": 11,
   "id": "12f2049d-fc84-46b8-b969-8f4382f52989",
   "metadata": {},
   "outputs": [
    {
     "name": "stdout",
     "output_type": "stream",
     "text": [
      "1\n"
     ]
    }
   ],
   "source": [
    "message = 'Hello World'\n",
    "print(message.count('Hello'))\n"
   ]
  },
  {
   "cell_type": "code",
   "execution_count": 12,
   "id": "71572fd1-2137-4327-91b1-f4e239c0c61d",
   "metadata": {},
   "outputs": [
    {
     "name": "stdout",
     "output_type": "stream",
     "text": [
      "3\n"
     ]
    }
   ],
   "source": [
    "message = 'Hello World'\n",
    "print(message.count('l'))\n"
   ]
  },
  {
   "cell_type": "code",
   "execution_count": 13,
   "id": "dced9bd0-6104-451a-837a-b6ab91aa90ac",
   "metadata": {},
   "outputs": [
    {
     "name": "stdout",
     "output_type": "stream",
     "text": [
      "6\n"
     ]
    }
   ],
   "source": [
    "message = 'Hello World'\n",
    "print(message.find('World'))"
   ]
  },
  {
   "cell_type": "code",
   "execution_count": 14,
   "id": "4230df29-6bd6-4f96-a703-bcf10e036408",
   "metadata": {},
   "outputs": [
    {
     "name": "stdout",
     "output_type": "stream",
     "text": [
      "Hello Universe\n"
     ]
    }
   ],
   "source": [
    "message = 'Hello World'\n",
    "new_message = message.replace( 'World' , 'Universe' )\n",
    "print(new_message)"
   ]
  },
  {
   "cell_type": "code",
   "execution_count": 15,
   "id": "1ef3d497-ee32-4d75-9ed1-9d46f9dd9c59",
   "metadata": {},
   "outputs": [
    {
     "name": "stdout",
     "output_type": "stream",
     "text": [
      "Hello Universe\n"
     ]
    }
   ],
   "source": [
    "message = 'Hello World'\n",
    "message = message.replace( 'World' , 'Universe' )\n",
    "print(message) "
   ]
  },
  {
   "cell_type": "code",
   "execution_count": 16,
   "id": "b536ebba-5e8e-4504-8dc1-750584589263",
   "metadata": {},
   "outputs": [
    {
     "name": "stdout",
     "output_type": "stream",
     "text": [
      "Hello,  Michael. Welcome! \n"
     ]
    }
   ],
   "source": [
    "greeting = 'Hello'\n",
    "name = ' Michael'\n",
    "message = greeting + ', ' + name + '. Welcome! '\n",
    "print (message) "
   ]
  },
  {
   "cell_type": "code",
   "execution_count": 17,
   "id": "04e4b913-cc15-4834-b55f-9f68af193752",
   "metadata": {},
   "outputs": [
    {
     "name": "stdout",
     "output_type": "stream",
     "text": [
      " Hello,  Michael . Welcome! \n"
     ]
    }
   ],
   "source": [
    "greeting = 'Hello'\n",
    "name = ' Michael'\n",
    "message = ' {}, {} . Welcome! ' . format (greeting, name)\n",
    "print(message)"
   ]
  },
  {
   "cell_type": "code",
   "execution_count": 18,
   "id": "7b2b5ffa-29f4-4322-afa9-18735951d22a",
   "metadata": {},
   "outputs": [
    {
     "name": "stdout",
     "output_type": "stream",
     "text": [
      "Hello ,  Michael . Welcome! \n"
     ]
    }
   ],
   "source": [
    "greeting = 'Hello'\n",
    "name = ' Michael'\n",
    "message = f'{greeting} , {name} . Welcome! '\n",
    "print(message) "
   ]
  },
  {
   "cell_type": "code",
   "execution_count": 19,
   "id": "154b618d-f860-41e5-81dd-6ebdede05d0b",
   "metadata": {},
   "outputs": [
    {
     "name": "stdout",
     "output_type": "stream",
     "text": [
      " Hello,  MICHAEL . Welcome! \n"
     ]
    }
   ],
   "source": [
    "greeting = 'Hello'\n",
    "name = ' Michael'\n",
    "message = f' {greeting}, {name.upper()} . Welcome! '\n",
    "print(message) "
   ]
  },
  {
   "cell_type": "code",
   "execution_count": 20,
   "id": "a2c06fa1-ad4e-4b75-b8d5-8c85d28068ab",
   "metadata": {},
   "outputs": [
    {
     "name": "stdout",
     "output_type": "stream",
     "text": [
      "['__add__', '__class__', '__contains__', '__delattr__', '__dir__', '__doc__', '__eq__', '__format__', '__ge__', '__getattribute__', '__getitem__', '__getnewargs__', '__gt__', '__hash__', '__init__', '__init_subclass__', '__iter__', '__le__', '__len__', '__lt__', '__mod__', '__mul__', '__ne__', '__new__', '__reduce__', '__reduce_ex__', '__repr__', '__rmod__', '__rmul__', '__setattr__', '__sizeof__', '__str__', '__subclasshook__', 'capitalize', 'casefold', 'center', 'count', 'encode', 'endswith', 'expandtabs', 'find', 'format', 'format_map', 'index', 'isalnum', 'isalpha', 'isascii', 'isdecimal', 'isdigit', 'isidentifier', 'islower', 'isnumeric', 'isprintable', 'isspace', 'istitle', 'isupper', 'join', 'ljust', 'lower', 'lstrip', 'maketrans', 'partition', 'removeprefix', 'removesuffix', 'replace', 'rfind', 'rindex', 'rjust', 'rpartition', 'rsplit', 'rstrip', 'split', 'splitlines', 'startswith', 'strip', 'swapcase', 'title', 'translate', 'upper', 'zfill']\n"
     ]
    }
   ],
   "source": [
    "greeting = 'Hello'\n",
    "name = ' Michael'\n",
    "message = f' {greeting}, {name.upper()} . Welcome! '\n",
    "print(dir(name)) "
   ]
  },
  {
   "cell_type": "code",
   "execution_count": null,
   "id": "47d87bfa-4236-4cdf-abd1-e302245b211d",
   "metadata": {},
   "outputs": [],
   "source": [
    "greeting = 'Hello'\n",
    "name = ' Michael'\n",
    "message = f' {greeting}, {name.upper()} . Welcome! '\n"
   ]
  }
 ],
 "metadata": {
  "kernelspec": {
   "display_name": "Python 3",
   "language": "python",
   "name": "python3"
  },
  "language_info": {
   "codemirror_mode": {
    "name": "ipython",
    "version": 3
   },
   "file_extension": ".py",
   "mimetype": "text/x-python",
   "name": "python",
   "nbconvert_exporter": "python",
   "pygments_lexer": "ipython3",
   "version": "3.9.1"
  }
 },
 "nbformat": 4,
 "nbformat_minor": 5
}
