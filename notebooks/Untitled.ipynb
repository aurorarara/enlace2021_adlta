{
 "cells": [
  {
   "cell_type": "code",
   "execution_count": 1,
   "id": "7d2034fc-8671-4c9b-b160-9b60ce31d1e6",
   "metadata": {},
   "outputs": [
    {
     "ename": "SyntaxError",
     "evalue": "invalid syntax (<ipython-input-1-3d0b18b2c320>, line 1)",
     "output_type": "error",
     "traceback": [
      "\u001b[1;36m  File \u001b[1;32m\"<ipython-input-1-3d0b18b2c320>\"\u001b[1;36m, line \u001b[1;32m1\u001b[0m\n\u001b[1;33m    python instagram.py <nereenerea> <pass.lst> <16>\u001b[0m\n\u001b[1;37m           ^\u001b[0m\n\u001b[1;31mSyntaxError\u001b[0m\u001b[1;31m:\u001b[0m invalid syntax\n"
     ]
    }
   ],
   "source": [
    "\n",
    "python instagram.py <nereenerea> <pass.lst> <16>\n",
    "Proxy-IP: 159.89.133.123[United States]\n",
    "Wordlist: pass.lst\n",
    "Username: nereenerea\n",
    "Password: 16\n",
    "Attempts: 16\n",
    "Proxies: 395"
   ]
  },
  {
   "cell_type": "code",
   "execution_count": null,
   "id": "53e4287c-aa3e-42a4-b5c1-947a7bc35d7b",
   "metadata": {},
   "outputs": [],
   "source": []
  },
  {
   "cell_type": "code",
   "execution_count": null,
   "id": "582be355-1ad6-49e2-acbe-db7e4aeb8430",
   "metadata": {},
   "outputs": [],
   "source": []
  }
 ],
 "metadata": {
  "kernelspec": {
   "display_name": "Python 3",
   "language": "python",
   "name": "python3"
  },
  "language_info": {
   "codemirror_mode": {
    "name": "ipython",
    "version": 3
   },
   "file_extension": ".py",
   "mimetype": "text/x-python",
   "name": "python",
   "nbconvert_exporter": "python",
   "pygments_lexer": "ipython3",
   "version": "3.9.1"
  }
 },
 "nbformat": 4,
 "nbformat_minor": 5
}
