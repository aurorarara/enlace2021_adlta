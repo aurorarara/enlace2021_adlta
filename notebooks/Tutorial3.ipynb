{
 "cells": [
  {
   "cell_type": "code",
   "execution_count": 1,
   "id": "b897cd08-76f7-4e85-960c-6de31b6b07d0",
   "metadata": {},
   "outputs": [
    {
     "name": "stdout",
     "output_type": "stream",
     "text": [
      "5\n"
     ]
    }
   ],
   "source": [
    "print(3 + 2)"
   ]
  },
  {
   "cell_type": "code",
   "execution_count": 2,
   "id": "92034fd7-d39a-49f6-892b-fd452519628a",
   "metadata": {},
   "outputs": [
    {
     "name": "stdout",
     "output_type": "stream",
     "text": [
      "1\n"
     ]
    }
   ],
   "source": [
    "print(3 - 2)"
   ]
  },
  {
   "cell_type": "code",
   "execution_count": 3,
   "id": "eb51fa31-fc6d-4774-91b7-723939e3e852",
   "metadata": {},
   "outputs": [
    {
     "name": "stdout",
     "output_type": "stream",
     "text": [
      "1.5\n"
     ]
    }
   ],
   "source": [
    "print(3 / 2)"
   ]
  },
  {
   "cell_type": "code",
   "execution_count": 4,
   "id": "690823d5-52be-45e2-80e5-2cf071c63d45",
   "metadata": {},
   "outputs": [
    {
     "name": "stdout",
     "output_type": "stream",
     "text": [
      "6\n"
     ]
    }
   ],
   "source": [
    "print(3 * 2)"
   ]
  },
  {
   "cell_type": "code",
   "execution_count": 5,
   "id": "6cf4501c-30e9-46d6-a697-c83d192dbd05",
   "metadata": {},
   "outputs": [
    {
     "name": "stdout",
     "output_type": "stream",
     "text": [
      "9\n"
     ]
    }
   ],
   "source": [
    "print(3 ** 2)"
   ]
  },
  {
   "cell_type": "code",
   "execution_count": 6,
   "id": "d7ea3791-000f-459f-925d-2b7b75d6b132",
   "metadata": {},
   "outputs": [
    {
     "name": "stdout",
     "output_type": "stream",
     "text": [
      "1\n"
     ]
    }
   ],
   "source": [
    "print(3 % 2) "
   ]
  },
  {
   "cell_type": "code",
   "execution_count": 7,
   "id": "634bb0c9-bce5-4b49-ab18-005850ec4fbd",
   "metadata": {},
   "outputs": [
    {
     "name": "stdout",
     "output_type": "stream",
     "text": [
      "1\n"
     ]
    }
   ],
   "source": [
    "print( 3 // 2) "
   ]
  },
  {
   "cell_type": "code",
   "execution_count": 8,
   "id": "c4918f5e-c2cc-4150-b9f2-ca98671107c1",
   "metadata": {},
   "outputs": [
    {
     "name": "stdout",
     "output_type": "stream",
     "text": [
      "2\n"
     ]
    }
   ],
   "source": [
    "num = 1 \n",
    "num = num + 1\n",
    "print(num)"
   ]
  },
  {
   "cell_type": "code",
   "execution_count": 9,
   "id": "29dc7bae-cabd-4078-a631-384ba517bf01",
   "metadata": {},
   "outputs": [
    {
     "name": "stdout",
     "output_type": "stream",
     "text": [
      "2\n"
     ]
    }
   ],
   "source": [
    "num = 1\n",
    "num += 1\n",
    "print(num)"
   ]
  },
  {
   "cell_type": "code",
   "execution_count": 10,
   "id": "5a1779d2-2f9e-4d08-8f16-828c3633309f",
   "metadata": {},
   "outputs": [
    {
     "name": "stdout",
     "output_type": "stream",
     "text": [
      "10\n"
     ]
    }
   ],
   "source": [
    "num = 1 \n",
    "num *=10 \n",
    "print(num)"
   ]
  },
  {
   "cell_type": "code",
   "execution_count": 11,
   "id": "31b4ccbb-535c-4668-a8e2-bb9fc26ad837",
   "metadata": {},
   "outputs": [
    {
     "name": "stdout",
     "output_type": "stream",
     "text": [
      "3\n"
     ]
    }
   ],
   "source": [
    "print(abs(-3))"
   ]
  },
  {
   "cell_type": "code",
   "execution_count": 12,
   "id": "2e10ab26-f7df-4a49-a39b-4eb17922f8ab",
   "metadata": {},
   "outputs": [
    {
     "name": "stdout",
     "output_type": "stream",
     "text": [
      "4\n"
     ]
    }
   ],
   "source": [
    "print(round(3.75))"
   ]
  },
  {
   "cell_type": "code",
   "execution_count": 13,
   "id": "2fffba30-05b0-44e9-a3a6-e17e5664d7ed",
   "metadata": {},
   "outputs": [
    {
     "name": "stdout",
     "output_type": "stream",
     "text": [
      "3.8\n"
     ]
    }
   ],
   "source": [
    "print(round(3.75, 1))"
   ]
  },
  {
   "cell_type": "code",
   "execution_count": 14,
   "id": "add67077-391c-4530-b1ba-f3b89140900d",
   "metadata": {},
   "outputs": [
    {
     "name": "stdout",
     "output_type": "stream",
     "text": [
      "False\n"
     ]
    }
   ],
   "source": [
    "num_1 = 3\n",
    "num_2 = 2\n",
    "print(num_1 == num_2)"
   ]
  },
  {
   "cell_type": "code",
   "execution_count": 15,
   "id": "8242eb06-7743-46c7-af2e-a3aa63e20846",
   "metadata": {},
   "outputs": [
    {
     "name": "stdout",
     "output_type": "stream",
     "text": [
      "True\n"
     ]
    }
   ],
   "source": [
    "num_1 = 3\n",
    "num_2 = 2\n",
    "print(num_1 != num_2)"
   ]
  },
  {
   "cell_type": "code",
   "execution_count": 16,
   "id": "0f3e3468-1439-4f4f-aec5-80501ee8361a",
   "metadata": {},
   "outputs": [
    {
     "name": "stdout",
     "output_type": "stream",
     "text": [
      "True\n"
     ]
    }
   ],
   "source": [
    "num_1 = 3\n",
    "num_2 = 2\n",
    "print(num_1 > num_2)"
   ]
  },
  {
   "cell_type": "code",
   "execution_count": null,
   "id": "84aca241-2fdb-46a4-9f5f-2ba6cd6a5578",
   "metadata": {},
   "outputs": [],
   "source": []
  }
 ],
 "metadata": {
  "kernelspec": {
   "display_name": "Python 3",
   "language": "python",
   "name": "python3"
  },
  "language_info": {
   "codemirror_mode": {
    "name": "ipython",
    "version": 3
   },
   "file_extension": ".py",
   "mimetype": "text/x-python",
   "name": "python",
   "nbconvert_exporter": "python",
   "pygments_lexer": "ipython3",
   "version": "3.9.1"
  }
 },
 "nbformat": 4,
 "nbformat_minor": 5
}
